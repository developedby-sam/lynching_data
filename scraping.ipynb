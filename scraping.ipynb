{
 "cells": [
  {
   "cell_type": "code",
   "execution_count": 28,
   "id": "86056b7f",
   "metadata": {},
   "outputs": [
    {
     "name": "stdout",
     "output_type": "stream",
     "text": [
      "/home/devsam/Desktop/projects/data-science\n"
     ]
    }
   ],
   "source": [
    "import requests\n",
    "from bs4 import BeautifulSoup\n",
    "import os \n",
    "path = os.getcwd()\n",
    "print(path)"
   ]
  },
  {
   "cell_type": "code",
   "execution_count": 44,
   "id": "4b0a4ca6-5a79-488f-b66c-8a2f74cbbd61",
   "metadata": {},
   "outputs": [],
   "source": [
    "read_path = path + '/data.txt'\n",
    "entries = []\n",
    "with open(read_path, 'r') as data:\n",
    "    content = data.read()\n",
    "    entries = content.split(';')\n",
    "\n",
    "write_path = path + '/filtered_data.csv'\n",
    "with open(write_path, 'a') as file:\n",
    "    for entry in entries:\n",
    "        file.write('NO OFFENSE, ' + entry.strip() + '\\n')\n",
    "    \n",
    "        "
   ]
  },
  {
   "cell_type": "code",
   "execution_count": null,
   "id": "63f2a8d2",
   "metadata": {},
   "outputs": [],
   "source": []
  }
 ],
 "metadata": {
  "kernelspec": {
   "display_name": "Python 3 (ipykernel)",
   "language": "python",
   "name": "python3"
  },
  "language_info": {
   "codemirror_mode": {
    "name": "ipython",
    "version": 3
   },
   "file_extension": ".py",
   "mimetype": "text/x-python",
   "name": "python",
   "nbconvert_exporter": "python",
   "pygments_lexer": "ipython3",
   "version": "3.10.6"
  }
 },
 "nbformat": 4,
 "nbformat_minor": 5
}
